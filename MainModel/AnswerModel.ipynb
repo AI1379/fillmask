{
 "cells": [
  {
   "cell_type": "code",
   "execution_count": 77,
   "metadata": {},
   "outputs": [],
   "source": [
    "import torch\n",
    "import numpy as np\n",
    "import torch.nn.functional as F\n",
    "import matplotlib.pyplot as plt\n",
    "from torch import nn, tensor, Tensor\n",
    "from datasets import load_dataset\n",
    "from transformers import AutoModelForMaskedLM, AutoTokenizer\n",
    "from typing import Any, AnyStr\n",
    "from collections import namedtuple\n",
    "\n",
    "%matplotlib inline"
   ]
  },
  {
   "cell_type": "code",
   "execution_count": 78,
   "metadata": {},
   "outputs": [
    {
     "name": "stderr",
     "output_type": "stream",
     "text": [
      "Some weights of the model checkpoint at bert-large-cased were not used when initializing BertForMaskedLM: ['bert.pooler.dense.bias', 'bert.pooler.dense.weight', 'cls.seq_relationship.weight', 'cls.seq_relationship.bias']\n",
      "- This IS expected if you are initializing BertForMaskedLM from the checkpoint of a model trained on another task or with another architecture (e.g. initializing a BertForSequenceClassification model from a BertForPreTraining model).\n",
      "- This IS NOT expected if you are initializing BertForMaskedLM from the checkpoint of a model that you expect to be exactly identical (initializing a BertForSequenceClassification model from a BertForSequenceClassification model).\n"
     ]
    }
   ],
   "source": [
    "modelCheckPoint = 'bert-large-cased'\n",
    "preModel = AutoModelForMaskedLM.from_pretrained(modelCheckPoint)\n",
    "preTokenizer = AutoTokenizer.from_pretrained(modelCheckPoint)"
   ]
  },
  {
   "cell_type": "code",
   "execution_count": 79,
   "metadata": {},
   "outputs": [],
   "source": [
    "AnswerTuple = namedtuple(\"AnswerTuple\", ['word', 'index'])"
   ]
  },
  {
   "cell_type": "code",
   "execution_count": 80,
   "metadata": {},
   "outputs": [],
   "source": [
    "def TokenText(tokenizer, text):\n",
    "    return tokenizer(text, return_tensors = \"pt\")\n",
    "\n",
    "def PadSingleWord(\n",
    "    model,\n",
    "    tokenizer,\n",
    "    text,\n",
    "    options\n",
    ") -> AnyStr:\n",
    "    \"\"\"\n",
    "    根据上下文填充单个词语\n",
    "    Args:\n",
    "        model:          语言模型\n",
    "        tokenizer:      编码器\n",
    "        text:           上下文\n",
    "        options:        给予的选项\n",
    "    Returns:\n",
    "        返回模型从给予的选项中概率最大\n",
    "    \"\"\"\n",
    "    \n",
    "    text = text.replace('_', '[MASK]')\n",
    "    # 获得编码\n",
    "    textToken = TokenText(tokenizer, text)\n",
    "    textLogits = model(**textToken).logits\n",
    "\n",
    "    # 获得掩码位置的概率\n",
    "    maskTokenIndex = torch.where(textToken['input_ids'] == tokenizer.mask_token_id)[1]\n",
    "    maskLogits = textLogits[0, maskTokenIndex, :][0]\n",
    "\n",
    "    # 获得选项编码 并且去除头尾的标签\n",
    "    optionsToken = TokenText(tokenizer, options)['input_ids'][0]\n",
    "    optionsToken = optionsToken[1 : len(optionsToken) - 1]\n",
    "\n",
    "    optionsLogits = tensor([maskLogits[index] for index in optionsToken])\n",
    "    \n",
    "    # 获得 答案下标\n",
    "    resIndex = optionsLogits.argmax()\n",
    "\n",
    "    return tokenizer.decode(optionsToken[resIndex]), resIndex"
   ]
  },
  {
   "cell_type": "code",
   "execution_count": 81,
   "metadata": {},
   "outputs": [
    {
     "data": {
      "text/plain": [
       "('a', tensor(5))"
      ]
     },
     "execution_count": 81,
     "metadata": {},
     "output_type": "execute_result"
    }
   ],
   "source": [
    "resIndex = PadSingleWord(preModel, preTokenizer, \"This is _ model\", \"an fantastic Machillka a\")\n",
    "\n",
    "resIndex"
   ]
  },
  {
   "cell_type": "markdown",
   "metadata": {},
   "source": [
    "# 做一整篇完形填空\n",
    "\n",
    "## 人的思维\n",
    "\n",
    "首先按照顺序读取文本, 对遇到的每个 mask 先根据上下文做出预测 ( Prediction )；最后检查 ( Check )\n",
    "\n",
    "## Model\n",
    "\n",
    "先对全局进行文本读取, 得到对于全局 mask 的理解"
   ]
  },
  {
   "cell_type": "code",
   "execution_count": 97,
   "metadata": {},
   "outputs": [
    {
     "name": "stdout",
     "output_type": "stream",
     "text": [
      "('it', 'love', 'no') (tensor(0), tensor(0), tensor(0))\n",
      "this is it, I love your mom, Ahh no\n"
     ]
    }
   ],
   "source": [
    "def PadWholeText(\n",
    "    model,\n",
    "    tokenizer,\n",
    "    text,\n",
    "    options\n",
    ") -> Any:\n",
    "    \"\"\"\n",
    "    Args:\n",
    "        model:\n",
    "        tokenizer:\n",
    "        text:           the text is filled with '[MASK]'\n",
    "        options:        the options of text, shape: [QLength, OptionNum]\n",
    "    Return:\n",
    "        the text model completed and the tuple (word, index)\n",
    "    \"\"\"\n",
    "    answer = []\n",
    "\n",
    "    text = text.replace('_', '[MASK]')\n",
    "    queryNum = len(options)\n",
    "\n",
    "    # 进行全局编码\n",
    "    textToken = TokenText(tokenizer, text)\n",
    "    textLogits = model(**textToken).logits\n",
    "    \n",
    "    resTextToken = textToken['input_ids'][0]\n",
    "\n",
    "    # 获得所有掩码位置\n",
    "    maskTokenIndex = torch.where(textToken['input_ids'] == tokenizer.mask_token_id)[1]\n",
    "\n",
    "    # 获得全局掩码理解\n",
    "    maskLogits = textLogits[0, maskTokenIndex, :]\n",
    "\n",
    "    # 如果 搜索到的 mask 和选项不匹配 则 断言error\n",
    "    assert maskLogits.size(0) == queryNum, \"mask shape is not euqal to options shape\"\n",
    "\n",
    "    # --- 根据全局理解进行填充\n",
    "    for queryIdx in range(queryNum):\n",
    "        # 当前查询的 掩码 概率\n",
    "        logits = maskLogits[queryIdx]\n",
    "\n",
    "        # 当前查询的 选项\n",
    "        option = options[queryIdx]\n",
    "        optionsToken = TokenText(tokenizer, option)['input_ids'][0]\n",
    "        optionsToken = optionsToken[1 : len(optionsToken) - 1]\n",
    "        \n",
    "        optionsLogits = tensor([logits[index] for index in optionsToken])\n",
    "    \n",
    "        # 获得当前查询 答案下标\n",
    "        resIndex = optionsLogits.argmax()\n",
    "        word = tokenizer.decode(optionsToken[resIndex])\n",
    "\n",
    "        answer.append(AnswerTuple(word, resIndex))\n",
    "\n",
    "        resTextToken[maskTokenIndex[queryIdx]] = optionsToken[resIndex]\n",
    "\n",
    "    # return answer, text\n",
    "    return answer, tokenizer.decode(resTextToken[1 : len(resTextToken) - 1])\n",
    "\n",
    "text = 'this is _, I _ your mom, Ahh _'\n",
    "options =[\"it my mother\", \"love none test\", \"no name vision\"]\n",
    "\n",
    "answer, text = PadWholeText(preModel, preTokenizer, text, options)\n",
    "\n",
    "print(*zip(*answer))\n",
    "print(text)"
   ]
  }
 ],
 "metadata": {
  "kernelspec": {
   "display_name": "Python 3",
   "language": "python",
   "name": "python3"
  },
  "language_info": {
   "codemirror_mode": {
    "name": "ipython",
    "version": 3
   },
   "file_extension": ".py",
   "mimetype": "text/x-python",
   "name": "python",
   "nbconvert_exporter": "python",
   "pygments_lexer": "ipython3",
   "version": "3.10.11"
  }
 },
 "nbformat": 4,
 "nbformat_minor": 2
}
