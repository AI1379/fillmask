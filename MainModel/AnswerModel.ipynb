{
 "cells": [
  {
   "cell_type": "code",
   "execution_count": 56,
   "metadata": {},
   "outputs": [],
   "source": [
    "import torch\n",
    "import numpy as np\n",
    "import torch.nn.functional as F\n",
    "import matplotlib.pyplot as plt\n",
    "from torch import nn, tensor, Tensor\n",
    "from datasets import load_dataset\n",
    "from transformers import AutoModelForMaskedLM, AutoTokenizer\n",
    "\n",
    "%matplotlib inline"
   ]
  },
  {
   "cell_type": "code",
   "execution_count": 57,
   "metadata": {},
   "outputs": [
    {
     "name": "stderr",
     "output_type": "stream",
     "text": [
      "Some weights of the model checkpoint at bert-large-cased were not used when initializing BertForMaskedLM: ['bert.pooler.dense.bias', 'bert.pooler.dense.weight', 'cls.seq_relationship.weight', 'cls.seq_relationship.bias']\n",
      "- This IS expected if you are initializing BertForMaskedLM from the checkpoint of a model trained on another task or with another architecture (e.g. initializing a BertForSequenceClassification model from a BertForPreTraining model).\n",
      "- This IS NOT expected if you are initializing BertForMaskedLM from the checkpoint of a model that you expect to be exactly identical (initializing a BertForSequenceClassification model from a BertForSequenceClassification model).\n"
     ]
    }
   ],
   "source": [
    "modelCheckPoint = 'bert-large-cased'\n",
    "preModel = AutoModelForMaskedLM.from_pretrained(modelCheckPoint)\n",
    "preTokenizer = AutoTokenizer.from_pretrained(modelCheckPoint)"
   ]
  },
  {
   "cell_type": "code",
   "execution_count": 58,
   "metadata": {},
   "outputs": [],
   "source": [
    "def TokenText(tokenizer, text):\n",
    "    return tokenizer(text, return_tensors = \"pt\")\n",
    "\n",
    "def GetResult(\n",
    "    model,\n",
    "    tokenizer,\n",
    "    text,\n",
    "    options\n",
    ") -> str:\n",
    "    \"\"\"\n",
    "    Args:\n",
    "        model:          语言模型\n",
    "        tokenizer:      编码器\n",
    "        text:           上下文\n",
    "        options:        给予的选项\n",
    "    Returns:\n",
    "        返回模型从给予的选项中概率最大\n",
    "    \"\"\"\n",
    "    \n",
    "    text = text.replace('_', '[MASK]')\n",
    "    # 获得编码\n",
    "    textToken = TokenText(tokenizer, text)\n",
    "    textLogits = model(**textToken).logits\n",
    "\n",
    "    # 获得掩码位置的概率\n",
    "    maskTokenIndex = torch.where(textToken['input_ids'] == tokenizer.mask_token_id)[1]\n",
    "    maskLogits = textLogits[0, maskTokenIndex, :][0]\n",
    "\n",
    "    # 获得选项编码 并且去除头尾的标签\n",
    "    optionsToken = TokenText(tokenizer, options)['input_ids'][0]\n",
    "    optionsToken = optionsToken[1 : len(optionsToken) - 1]\n",
    "\n",
    "    optionsLogits = tensor([maskLogits[index] for index in optionsToken])\n",
    "    \n",
    "    # 获得 答案下标\n",
    "    resIndex = optionsLogits.argmax()\n",
    "\n",
    "    return tokenizer.decode(optionsToken[resIndex])"
   ]
  },
  {
   "cell_type": "code",
   "execution_count": 59,
   "metadata": {},
   "outputs": [
    {
     "data": {
      "text/plain": [
       "'a'"
      ]
     },
     "execution_count": 59,
     "metadata": {},
     "output_type": "execute_result"
    }
   ],
   "source": [
    "resIndex = GetResult(preModel, preTokenizer, \"This is _ model\", \"an fantastic Machillka a\")\n",
    "\n",
    "resIndex"
   ]
  }
 ],
 "metadata": {
  "kernelspec": {
   "display_name": "Python 3",
   "language": "python",
   "name": "python3"
  },
  "language_info": {
   "codemirror_mode": {
    "name": "ipython",
    "version": 3
   },
   "file_extension": ".py",
   "mimetype": "text/x-python",
   "name": "python",
   "nbconvert_exporter": "python",
   "pygments_lexer": "ipython3",
   "version": "3.10.11"
  }
 },
 "nbformat": 4,
 "nbformat_minor": 2
}
